{
  "nbformat": 4,
  "nbformat_minor": 0,
  "metadata": {
    "colab": {
      "name": "数理最適化_練習問題_1.ipynb",
      "provenance": [],
      "include_colab_link": true
    },
    "kernelspec": {
      "name": "python3",
      "display_name": "Python 3"
    }
  },
  "cells": [
    {
      "cell_type": "markdown",
      "metadata": {
        "id": "view-in-github",
        "colab_type": "text"
      },
      "source": [
        "<a href=\"https://colab.research.google.com/github/PenguinJudy/ActressViewer/blob/master/%E6%95%B0%E7%90%86%E6%9C%80%E9%81%A9%E5%8C%96_%E7%B7%B4%E7%BF%92%E5%95%8F%E9%A1%8C_1.ipynb\" target=\"_parent\"><img src=\"https://colab.research.google.com/assets/colab-badge.svg\" alt=\"Open In Colab\"/></a>"
      ]
    },
    {
      "cell_type": "code",
      "metadata": {
        "id": "zlOndq9jd8xY",
        "colab_type": "code",
        "colab": {
          "base_uri": "https://localhost:8080/",
          "height": 270
        },
        "outputId": "95180817-32bc-4ad6-a2bd-656e0aec1a96"
      },
      "source": [
        "from pulp.pulp import LpProblem\n",
        "from pulp.pulp import LpVariable\n",
        "from pulp.constants import LpMaximize\n",
        "\n",
        "#総和最大化なのでLpMaximizeを指定する\n",
        "problem = LpProblem('Restaurant', LpMaximize)\n",
        "\n",
        "#変数定義\n",
        "tonkoke = LpVariable('Tonkoke')\n",
        "koketon = LpVariable('Koketon')\n",
        "mix = LpVariable('Mix')\n",
        "beef = LpVariable('Beef')\n",
        "\n",
        "#目的関数\n",
        "problem += 1500 * tonkoke + 1800 * koketon + 2000 * mix + 5000 * beef\n",
        "\n",
        "#制約条件\n",
        "#ビーフ丼は1日10杯まで\n",
        "beef <= 10\n",
        "#豚9kg\n",
        "problem += 200 * tonkoke + 100 * koketon + 100 * mix <= 9000\n",
        "#鶏9kg\n",
        "problem += 100 * tonkoke + 200 * koketon + 100 * mix <= 9000\n",
        "#牛6kg\n",
        "problem += 100 * mix + 300 * beef <= 6000\n",
        "\n",
        "problem.solve()\n",
        "\n",
        "print('トンコケ丼{tonkoke}'.format(tonkoke = tonkoke.value()))\n",
        "print('コケトン丼{koketon}'.format(koketon = koketon.value()))\n",
        "print('ミックス丼{mix}'.format(mix = mix.value()))\n",
        "print('ビーフ丼{beef}'.format(beef = beef.value()))"
      ],
      "execution_count": 13,
      "outputs": [
        {
          "output_type": "stream",
          "text": [
            "トンコケ丼30.0\n",
            "コケトン丼30.0\n",
            "ミックス丼0.0\n",
            "ビーフ丼20.0\n"
          ],
          "name": "stdout"
        },
        {
          "output_type": "error",
          "ename": "AttributeError",
          "evalue": "ignored",
          "traceback": [
            "\u001b[0;31m---------------------------------------------------------------------------\u001b[0m",
            "\u001b[0;31mAttributeError\u001b[0m                            Traceback (most recent call last)",
            "\u001b[0;32m<ipython-input-13-f26548e16dec>\u001b[0m in \u001b[0;36m<module>\u001b[0;34m()\u001b[0m\n\u001b[1;32m     32\u001b[0m \u001b[0mprint\u001b[0m\u001b[0;34m(\u001b[0m\u001b[0;34m'ビーフ丼{beef}'\u001b[0m\u001b[0;34m.\u001b[0m\u001b[0mformat\u001b[0m\u001b[0;34m(\u001b[0m\u001b[0mbeef\u001b[0m \u001b[0;34m=\u001b[0m \u001b[0mbeef\u001b[0m\u001b[0;34m.\u001b[0m\u001b[0mvalue\u001b[0m\u001b[0;34m(\u001b[0m\u001b[0;34m)\u001b[0m\u001b[0;34m)\u001b[0m\u001b[0;34m)\u001b[0m\u001b[0;34m\u001b[0m\u001b[0;34m\u001b[0m\u001b[0m\n\u001b[1;32m     33\u001b[0m \u001b[0;34m\u001b[0m\u001b[0m\n\u001b[0;32m---> 34\u001b[0;31m \u001b[0mprint\u001b[0m\u001b[0;34m(\u001b[0m\u001b[0;34m'利益は{problem}'\u001b[0m\u001b[0;34m.\u001b[0m\u001b[0mformat\u001b[0m\u001b[0;34m(\u001b[0m\u001b[0mproblem\u001b[0m \u001b[0;34m=\u001b[0m \u001b[0mproblem\u001b[0m\u001b[0;34m.\u001b[0m\u001b[0mproblem\u001b[0m\u001b[0;34m(\u001b[0m\u001b[0;34m)\u001b[0m\u001b[0;34m)\u001b[0m\u001b[0;34m)\u001b[0m\u001b[0;34m\u001b[0m\u001b[0;34m\u001b[0m\u001b[0m\n\u001b[0m",
            "\u001b[0;31mAttributeError\u001b[0m: 'LpProblem' object has no attribute 'problem'"
          ]
        }
      ]
    }
  ]
}